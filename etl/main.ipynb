{
 "cells": [
  {
   "cell_type": "markdown",
   "metadata": {},
   "source": [
    "# Data Cleaning and Preparation for Amazon Fashion Dataset\n",
    "\n",
    "### Overview\n",
    "This notebook documents the process of downloading, cleaning, analyzing, and preparing the Amazon Fashion dataset for further use, such as building a vector database. The dataset contains product information, including titles, ratings, features, descriptions, prices, and images. The goal is to optimize the dataset by removing unnecessary columns, handling missing data, and reducing its size to meet GitHub's 100MB file size limit.\n",
    "\n",
    "### Steps and Workflow\n",
    "- **Initial Setup**:\n",
    "    - Imported necessary libraries (`pandas`, `matplotlib`, etc.).\n",
    "    - Configured pandas options for better display of data.\n",
    "- **Data Downloading and Loading**:\n",
    "    - Downloaded the dataset from a specified URL and saved it locally as a compressed JSONL file.\n",
    "    - Loaded the dataset into a pandas DataFrame.\n",
    "- **Exploratory Data Analysis (EDA)**:\n",
    "    - Inspected the structure and content of the dataset using `.head()`, `.columns`, and `.iloc`.\n",
    "    - Analyzed the distribution of key columns like `main_category`, `average_rating`, and `rating_number`.\n",
    "- **Data Cleaning**:\n",
    "    - Dropped irrelevant or empty columns such as `bought_together`, `videos`, `main_category`, and `categories`.\n",
    "    - Extracted and retained only the `MAIN` `HIGH_RES` image URLs.\n",
    "    - Concatenated multi-part descriptions into a single string.\n",
    "    - Removed unnecessary prefixes from image URLs to reduce file size.\n",
    "- **Data Optimization**:\n",
    "    - Converted data types (e.g., `float32`, `int32`, `category`) to save memory.\n",
    "    - Randomly dropped 5% of the data to reduce the dataset size.\n",
    "- **Data Export**:\n",
    "    - Saved the cleaned and optimized dataset as a compressed CSV file.\n",
    "\n",
    "### Main Findings\n",
    "- The dataset contained several columns with missing or irrelevant data:\n",
    "    - `price` was missing for the majority of products.\n",
    "    - `bought_together` and `categories` were fully null and dropped.\n",
    "    - `main_category` had no variation and was removed.\n",
    "- The `features` and `details` columns provided valuable information about the products.\n",
    "- All non-null image URLs followed a consistent format, allowing for efficient processing.\n",
    "- Multi-part descriptions were concatenated to improve usability.\n",
    "\n",
    "### Results\n",
    "- The cleaned dataset contains 784,803 rows and 9 columns.\n",
    "- The dataset size was reduced to below 100MB by:\n",
    "    - Dropping unnecessary columns.\n",
    "    - Optimizing data types.\n",
    "    - Removing 5% of the data randomly.\n",
    "- The final dataset was saved as a compressed CSV file (`products.csv`) for further use."
   ]
  },
  {
   "cell_type": "code",
   "execution_count": 1,
   "metadata": {},
   "outputs": [],
   "source": [
    "import pandas as pd\n",
    "from collections import Counter\n",
    "import matplotlib.pyplot as plt\n",
    "import os\n",
    "import requests"
   ]
  },
  {
   "cell_type": "code",
   "execution_count": 2,
   "metadata": {},
   "outputs": [],
   "source": [
    "# This function will help us later when handling columns of dtype list\n",
    "def flatten_and_count(df, column):\n",
    "    \"\"\"\n",
    "    Flatten a column of lists and count occurrences of each unique item.\n",
    "    \"\"\"\n",
    "    # Flatten all category lists (filtering out non-lists or NaNs)\n",
    "    flattened = [\n",
    "        category for row in df[column] if isinstance(row, list) for category in row\n",
    "    ]\n",
    "\n",
    "    # Count occurrences\n",
    "    category_counts = Counter(flattened)\n",
    "\n",
    "    # Convert to DataFrame for better readability or export\n",
    "    category_df = pd.DataFrame.from_dict(\n",
    "        category_counts, orient=\"index\", columns=[\"count\"]\n",
    "    ).sort_values(by=\"count\", ascending=False)\n",
    "\n",
    "    return category_df"
   ]
  },
  {
   "cell_type": "code",
   "execution_count": 3,
   "metadata": {},
   "outputs": [
    {
     "name": "stdout",
     "output_type": "stream",
     "text": [
      "The file already exists at ./raw/meta_Amazon_Fashion.jsonl.gz\n"
     ]
    }
   ],
   "source": [
    "# Define the URL of the dataset and the local path where it will be saved\n",
    "url = \"https://mcauleylab.ucsd.edu/public_datasets/data/amazon_2023/raw/meta_categories/meta_Amazon_Fashion.jsonl.gz\"\n",
    "output_path = \"./raw/meta_Amazon_Fashion.jsonl.gz\"\n",
    "\n",
    "# Check if the file already exists at the specified path\n",
    "file_exists = os.path.exists(output_path)\n",
    "\n",
    "# Print a message based on whether the file exists or not\n",
    "if file_exists:\n",
    "    print(f\"The file already exists at {output_path}\")\n",
    "else:\n",
    "    print(f\"No file found at {output_path}\")"
   ]
  },
  {
   "cell_type": "code",
   "execution_count": 4,
   "metadata": {},
   "outputs": [
    {
     "name": "stdout",
     "output_type": "stream",
     "text": [
      "The file already exists at ./raw/meta_Amazon_Fashion.jsonl.gz. Skipped download.\n"
     ]
    }
   ],
   "source": [
    "# Check if the file already exists\n",
    "if not file_exists:\n",
    "    # If the file does not exist, download it from the specified URL\n",
    "    response = requests.get(url, stream=True)\n",
    "    if response.status_code == 200:\n",
    "        # Write the file in chunks to avoid memory issues with large files\n",
    "        with open(output_path, \"wb\") as f:\n",
    "            for chunk in response.iter_content(chunk_size=8192):\n",
    "                f.write(chunk)\n",
    "        print(f\"File downloaded and saved to {output_path}\")\n",
    "    else:\n",
    "        # Print an error message if the download fails\n",
    "        print(f\"Failed to download file. Status code: {response.status_code}\")\n",
    "else:\n",
    "    # If the file already exists, print a message\n",
    "    print(f\"The file already exists at {output_path}. Skipped download.\")"
   ]
  },
  {
   "cell_type": "code",
   "execution_count": 5,
   "metadata": {},
   "outputs": [],
   "source": [
    "# Read the downloaded file into a pandas DataFrame\n",
    "df = pd.read_json(output_path, lines=True, compression=\"gzip\")"
   ]
  },
  {
   "cell_type": "code",
   "execution_count": 6,
   "metadata": {},
   "outputs": [
    {
     "data": {
      "text/html": [
       "<div>\n",
       "<style scoped>\n",
       "    .dataframe tbody tr th:only-of-type {\n",
       "        vertical-align: middle;\n",
       "    }\n",
       "\n",
       "    .dataframe tbody tr th {\n",
       "        vertical-align: top;\n",
       "    }\n",
       "\n",
       "    .dataframe thead th {\n",
       "        text-align: right;\n",
       "    }\n",
       "</style>\n",
       "<table border=\"1\" class=\"dataframe\">\n",
       "  <thead>\n",
       "    <tr style=\"text-align: right;\">\n",
       "      <th></th>\n",
       "      <th>main_category</th>\n",
       "      <th>title</th>\n",
       "      <th>average_rating</th>\n",
       "      <th>rating_number</th>\n",
       "      <th>features</th>\n",
       "      <th>description</th>\n",
       "      <th>price</th>\n",
       "      <th>images</th>\n",
       "      <th>videos</th>\n",
       "      <th>store</th>\n",
       "      <th>categories</th>\n",
       "      <th>details</th>\n",
       "      <th>parent_asin</th>\n",
       "      <th>bought_together</th>\n",
       "    </tr>\n",
       "  </thead>\n",
       "  <tbody>\n",
       "    <tr>\n",
       "      <th>0</th>\n",
       "      <td>AMAZON FASHION</td>\n",
       "      <td>YUEDGE 5 Pairs Men's Moisture Control Cushione...</td>\n",
       "      <td>4.6</td>\n",
       "      <td>16</td>\n",
       "      <td>[]</td>\n",
       "      <td>[]</td>\n",
       "      <td>NaN</td>\n",
       "      <td>[{'thumb': 'https://m.media-amazon.com/images/...</td>\n",
       "      <td>[]</td>\n",
       "      <td>GiveGift</td>\n",
       "      <td>[]</td>\n",
       "      <td>{'Package Dimensions': '10.31 x 8.5 x 1.73 inc...</td>\n",
       "      <td>B08BHN9PK5</td>\n",
       "      <td>NaN</td>\n",
       "    </tr>\n",
       "    <tr>\n",
       "      <th>1</th>\n",
       "      <td>AMAZON FASHION</td>\n",
       "      <td>DouBCQ Women's Palazzo Lounge Wide Leg Casual ...</td>\n",
       "      <td>4.1</td>\n",
       "      <td>7</td>\n",
       "      <td>[Drawstring closure, Machine Wash]</td>\n",
       "      <td>[]</td>\n",
       "      <td>NaN</td>\n",
       "      <td>[{'thumb': 'https://m.media-amazon.com/images/...</td>\n",
       "      <td>[]</td>\n",
       "      <td>DouBCQ</td>\n",
       "      <td>[]</td>\n",
       "      <td>{'Package Dimensions': '15 x 10.2 x 0.4 inches...</td>\n",
       "      <td>B08R39MRDW</td>\n",
       "      <td>NaN</td>\n",
       "    </tr>\n",
       "    <tr>\n",
       "      <th>2</th>\n",
       "      <td>AMAZON FASHION</td>\n",
       "      <td>Pastel by Vivienne Honey Vanilla Girls' Trapez...</td>\n",
       "      <td>4.3</td>\n",
       "      <td>11</td>\n",
       "      <td>[Zipper closure, Hand Wash Only]</td>\n",
       "      <td>[]</td>\n",
       "      <td>NaN</td>\n",
       "      <td>[{'thumb': 'https://m.media-amazon.com/images/...</td>\n",
       "      <td>[]</td>\n",
       "      <td>Pastel by Vivienne</td>\n",
       "      <td>[]</td>\n",
       "      <td>{'Is Discontinued By Manufacturer': 'No', 'Pac...</td>\n",
       "      <td>B077KJHCJ4</td>\n",
       "      <td>NaN</td>\n",
       "    </tr>\n",
       "    <tr>\n",
       "      <th>3</th>\n",
       "      <td>AMAZON FASHION</td>\n",
       "      <td>Mento Streamtail</td>\n",
       "      <td>2.0</td>\n",
       "      <td>1</td>\n",
       "      <td>[Thermoplastic Rubber sole, High Density Premi...</td>\n",
       "      <td>[Slip on the Women's Mento and you're ready to...</td>\n",
       "      <td>29.81</td>\n",
       "      <td>[{'thumb': 'https://m.media-amazon.com/images/...</td>\n",
       "      <td>[]</td>\n",
       "      <td>Guy Harvey</td>\n",
       "      <td>[]</td>\n",
       "      <td>{'Package Dimensions': '11.22 x 4.72 x 4.33 in...</td>\n",
       "      <td>B0811M2JG9</td>\n",
       "      <td>NaN</td>\n",
       "    </tr>\n",
       "    <tr>\n",
       "      <th>4</th>\n",
       "      <td>AMAZON FASHION</td>\n",
       "      <td>RONNOX Women's 3-Pairs Bright Colored Calf Com...</td>\n",
       "      <td>4.3</td>\n",
       "      <td>3032</td>\n",
       "      <td>[Pull On closure, Size Guide: \"S\" fits calf 10...</td>\n",
       "      <td>[Ronnox Calf Sleeves - Allowing Your Body to P...</td>\n",
       "      <td>17.99</td>\n",
       "      <td>[{'thumb': 'https://m.media-amazon.com/images/...</td>\n",
       "      <td>[{'title': 'HONEST Review: RONNOX Women's 3-Pa...</td>\n",
       "      <td>RONNOX</td>\n",
       "      <td>[]</td>\n",
       "      <td>{'Is Discontinued By Manufacturer': 'No', 'Pac...</td>\n",
       "      <td>B07SB2892S</td>\n",
       "      <td>NaN</td>\n",
       "    </tr>\n",
       "  </tbody>\n",
       "</table>\n",
       "</div>"
      ],
      "text/plain": [
       "    main_category                                              title  \\\n",
       "0  AMAZON FASHION  YUEDGE 5 Pairs Men's Moisture Control Cushione...   \n",
       "1  AMAZON FASHION  DouBCQ Women's Palazzo Lounge Wide Leg Casual ...   \n",
       "2  AMAZON FASHION  Pastel by Vivienne Honey Vanilla Girls' Trapez...   \n",
       "3  AMAZON FASHION                                   Mento Streamtail   \n",
       "4  AMAZON FASHION  RONNOX Women's 3-Pairs Bright Colored Calf Com...   \n",
       "\n",
       "   average_rating  rating_number  \\\n",
       "0             4.6             16   \n",
       "1             4.1              7   \n",
       "2             4.3             11   \n",
       "3             2.0              1   \n",
       "4             4.3           3032   \n",
       "\n",
       "                                            features  \\\n",
       "0                                                 []   \n",
       "1                 [Drawstring closure, Machine Wash]   \n",
       "2                   [Zipper closure, Hand Wash Only]   \n",
       "3  [Thermoplastic Rubber sole, High Density Premi...   \n",
       "4  [Pull On closure, Size Guide: \"S\" fits calf 10...   \n",
       "\n",
       "                                         description  price  \\\n",
       "0                                                 []    NaN   \n",
       "1                                                 []    NaN   \n",
       "2                                                 []    NaN   \n",
       "3  [Slip on the Women's Mento and you're ready to...  29.81   \n",
       "4  [Ronnox Calf Sleeves - Allowing Your Body to P...  17.99   \n",
       "\n",
       "                                              images  \\\n",
       "0  [{'thumb': 'https://m.media-amazon.com/images/...   \n",
       "1  [{'thumb': 'https://m.media-amazon.com/images/...   \n",
       "2  [{'thumb': 'https://m.media-amazon.com/images/...   \n",
       "3  [{'thumb': 'https://m.media-amazon.com/images/...   \n",
       "4  [{'thumb': 'https://m.media-amazon.com/images/...   \n",
       "\n",
       "                                              videos               store  \\\n",
       "0                                                 []            GiveGift   \n",
       "1                                                 []              DouBCQ   \n",
       "2                                                 []  Pastel by Vivienne   \n",
       "3                                                 []          Guy Harvey   \n",
       "4  [{'title': 'HONEST Review: RONNOX Women's 3-Pa...              RONNOX   \n",
       "\n",
       "  categories                                            details parent_asin  \\\n",
       "0         []  {'Package Dimensions': '10.31 x 8.5 x 1.73 inc...  B08BHN9PK5   \n",
       "1         []  {'Package Dimensions': '15 x 10.2 x 0.4 inches...  B08R39MRDW   \n",
       "2         []  {'Is Discontinued By Manufacturer': 'No', 'Pac...  B077KJHCJ4   \n",
       "3         []  {'Package Dimensions': '11.22 x 4.72 x 4.33 in...  B0811M2JG9   \n",
       "4         []  {'Is Discontinued By Manufacturer': 'No', 'Pac...  B07SB2892S   \n",
       "\n",
       "   bought_together  \n",
       "0              NaN  \n",
       "1              NaN  \n",
       "2              NaN  \n",
       "3              NaN  \n",
       "4              NaN  "
      ]
     },
     "execution_count": 6,
     "metadata": {},
     "output_type": "execute_result"
    }
   ],
   "source": [
    "# Check the first few rows of the DataFrame\n",
    "df.head()"
   ]
  },
  {
   "cell_type": "code",
   "execution_count": 7,
   "metadata": {},
   "outputs": [
    {
     "data": {
      "text/plain": [
       "Index(['main_category', 'title', 'average_rating', 'rating_number', 'features',\n",
       "       'description', 'price', 'images', 'videos', 'store', 'categories',\n",
       "       'details', 'parent_asin', 'bought_together'],\n",
       "      dtype='object')"
      ]
     },
     "execution_count": 7,
     "metadata": {},
     "output_type": "execute_result"
    }
   ],
   "source": [
    "# Display the columns of the DataFrame to understand its structure\n",
    "df.columns"
   ]
  },
  {
   "cell_type": "code",
   "execution_count": 8,
   "metadata": {},
   "outputs": [
    {
     "data": {
      "text/plain": [
       "{'main_category': 'AMAZON FASHION',\n",
       " 'title': 'Mento Streamtail',\n",
       " 'average_rating': 2.0,\n",
       " 'rating_number': 1,\n",
       " 'features': ['Thermoplastic Rubber sole',\n",
       "  'High Density Premium Thickness Comfort Foam Footbed',\n",
       "  'Full Color Original Guy Harvey Artwork On Wavy Outsole',\n",
       "  'Soft Canvas Strap Lining with Embroidered Logo',\n",
       "  'Screen Printed Logo on Footbed',\n",
       "  'Lightweight Non-Marking EVA Outsole with Flex Grooves'],\n",
       " 'description': [\"Slip on the Women's Mento and you're ready to hit the beach. This thong sandal features canvas straps with a soft lining, a high density premium thickness comfort foam footbed and a lightweight non-marking EVA outsole with flex grooves. A full color digital print of Guy Harvey's artwork is featured on the wavy outsole.\"],\n",
       " 'price': 29.81,\n",
       " 'images': [{'thumb': 'https://m.media-amazon.com/images/I/31P-uHUUIXL._AC_US40_.jpg',\n",
       "   'large': 'https://m.media-amazon.com/images/I/31P-uHUUIXL._AC_.jpg',\n",
       "   'variant': 'MAIN',\n",
       "   'hi_res': 'https://m.media-amazon.com/images/I/61qmATFO2FL._AC_UL1500_.jpg'},\n",
       "  {'thumb': 'https://m.media-amazon.com/images/I/41G-1W5k7EL._AC_US40_.jpg',\n",
       "   'large': 'https://m.media-amazon.com/images/I/41G-1W5k7EL._AC_.jpg',\n",
       "   'variant': 'FRNT',\n",
       "   'hi_res': 'https://m.media-amazon.com/images/I/6160QrWEfJL._AC_UL1310_.jpg'},\n",
       "  {'thumb': 'https://m.media-amazon.com/images/I/41yhiAiCrBL._AC_US40_.jpg',\n",
       "   'large': 'https://m.media-amazon.com/images/I/41yhiAiCrBL._AC_.jpg',\n",
       "   'variant': 'BACK',\n",
       "   'hi_res': 'https://m.media-amazon.com/images/I/61eVvnbcjUL._AC_UL1237_.jpg'},\n",
       "  {'thumb': 'https://m.media-amazon.com/images/I/31bXKbAKHSL._AC_US40_.jpg',\n",
       "   'large': 'https://m.media-amazon.com/images/I/31bXKbAKHSL._AC_.jpg',\n",
       "   'variant': 'BOTT',\n",
       "   'hi_res': 'https://m.media-amazon.com/images/I/71+eg7eJdML._AC_UL1500_.jpg'},\n",
       "  {'thumb': 'https://m.media-amazon.com/images/I/31wjUX7o8YL._AC_US40_.jpg',\n",
       "   'large': 'https://m.media-amazon.com/images/I/31wjUX7o8YL._AC_.jpg',\n",
       "   'variant': 'TOPP',\n",
       "   'hi_res': 'https://m.media-amazon.com/images/I/71JRdvDhuWL._AC_UL1500_.jpg'},\n",
       "  {'thumb': 'https://m.media-amazon.com/images/I/21cadRZ+01L._AC_US40_.jpg',\n",
       "   'large': 'https://m.media-amazon.com/images/I/21cadRZ+01L._AC_.jpg',\n",
       "   'variant': 'RGHT',\n",
       "   'hi_res': 'https://m.media-amazon.com/images/I/61hcldB99RL._AC_UL1500_.jpg'},\n",
       "  {'thumb': 'https://m.media-amazon.com/images/I/31urvfwzRLL._AC_US40_.jpg',\n",
       "   'large': 'https://m.media-amazon.com/images/I/31urvfwzRLL._AC_.jpg',\n",
       "   'variant': 'PAIR',\n",
       "   'hi_res': 'https://m.media-amazon.com/images/I/71CdYWVZqPL._AC_UL1500_.jpg'}],\n",
       " 'videos': [],\n",
       " 'store': 'Guy Harvey',\n",
       " 'categories': [],\n",
       " 'details': {'Package Dimensions': '11.22 x 4.72 x 4.33 inches; 1.7 Pounds',\n",
       "  'Item model number': 'GHWMENTBGT-4152',\n",
       "  'Department': 'womens',\n",
       "  'Date First Available': 'November 5, 2019',\n",
       "  'Manufacturer': 'Guy Harvey',\n",
       "  'Country of Origin': 'China'},\n",
       " 'parent_asin': 'B0811M2JG9',\n",
       " 'bought_together': nan}"
      ]
     },
     "execution_count": 8,
     "metadata": {},
     "output_type": "execute_result"
    }
   ],
   "source": [
    "# Deep dive into a random row\n",
    "df.iloc[3].to_dict()"
   ]
  },
  {
   "cell_type": "markdown",
   "metadata": {},
   "source": [
    "We dont need all images for our prototype so let's pick up 1 image only - which is the `MAIN` `HIGH_RES` version"
   ]
  },
  {
   "cell_type": "code",
   "execution_count": 9,
   "metadata": {},
   "outputs": [],
   "source": [
    "df[\"main_hi_res_image\"] = df[\"images\"].apply(\n",
    "    lambda images: (\n",
    "        next(\n",
    "            (\n",
    "                img.get(\"hi_res\")\n",
    "                for img in images\n",
    "                if img.get(\"variant\", \"\").lower() == \"main\"\n",
    "            ),\n",
    "            None,\n",
    "        )\n",
    "        if isinstance(images, list)\n",
    "        else None\n",
    "    )\n",
    ")\n",
    "df = df.drop(\"images\", axis=1)"
   ]
  },
  {
   "cell_type": "code",
   "execution_count": 10,
   "metadata": {},
   "outputs": [
    {
     "data": {
      "text/html": [
       "<div>\n",
       "<style scoped>\n",
       "    .dataframe tbody tr th:only-of-type {\n",
       "        vertical-align: middle;\n",
       "    }\n",
       "\n",
       "    .dataframe tbody tr th {\n",
       "        vertical-align: top;\n",
       "    }\n",
       "\n",
       "    .dataframe thead th {\n",
       "        text-align: right;\n",
       "    }\n",
       "</style>\n",
       "<table border=\"1\" class=\"dataframe\">\n",
       "  <thead>\n",
       "    <tr style=\"text-align: right;\">\n",
       "      <th></th>\n",
       "      <th>Column Name</th>\n",
       "      <th>Data Type</th>\n",
       "      <th>Non-Null Count</th>\n",
       "      <th>Null Count</th>\n",
       "    </tr>\n",
       "  </thead>\n",
       "  <tbody>\n",
       "    <tr>\n",
       "      <th>0</th>\n",
       "      <td>main_category</td>\n",
       "      <td>object</td>\n",
       "      <td>826108</td>\n",
       "      <td>0</td>\n",
       "    </tr>\n",
       "    <tr>\n",
       "      <th>1</th>\n",
       "      <td>title</td>\n",
       "      <td>object</td>\n",
       "      <td>826108</td>\n",
       "      <td>0</td>\n",
       "    </tr>\n",
       "    <tr>\n",
       "      <th>2</th>\n",
       "      <td>average_rating</td>\n",
       "      <td>float64</td>\n",
       "      <td>826108</td>\n",
       "      <td>0</td>\n",
       "    </tr>\n",
       "    <tr>\n",
       "      <th>3</th>\n",
       "      <td>rating_number</td>\n",
       "      <td>int64</td>\n",
       "      <td>826108</td>\n",
       "      <td>0</td>\n",
       "    </tr>\n",
       "    <tr>\n",
       "      <th>4</th>\n",
       "      <td>features</td>\n",
       "      <td>object</td>\n",
       "      <td>826108</td>\n",
       "      <td>0</td>\n",
       "    </tr>\n",
       "    <tr>\n",
       "      <th>5</th>\n",
       "      <td>description</td>\n",
       "      <td>object</td>\n",
       "      <td>826108</td>\n",
       "      <td>0</td>\n",
       "    </tr>\n",
       "    <tr>\n",
       "      <th>6</th>\n",
       "      <td>price</td>\n",
       "      <td>float64</td>\n",
       "      <td>50249</td>\n",
       "      <td>775859</td>\n",
       "    </tr>\n",
       "    <tr>\n",
       "      <th>7</th>\n",
       "      <td>videos</td>\n",
       "      <td>object</td>\n",
       "      <td>826108</td>\n",
       "      <td>0</td>\n",
       "    </tr>\n",
       "    <tr>\n",
       "      <th>8</th>\n",
       "      <td>store</td>\n",
       "      <td>object</td>\n",
       "      <td>799270</td>\n",
       "      <td>26838</td>\n",
       "    </tr>\n",
       "    <tr>\n",
       "      <th>9</th>\n",
       "      <td>categories</td>\n",
       "      <td>object</td>\n",
       "      <td>826108</td>\n",
       "      <td>0</td>\n",
       "    </tr>\n",
       "    <tr>\n",
       "      <th>10</th>\n",
       "      <td>details</td>\n",
       "      <td>object</td>\n",
       "      <td>826108</td>\n",
       "      <td>0</td>\n",
       "    </tr>\n",
       "    <tr>\n",
       "      <th>11</th>\n",
       "      <td>parent_asin</td>\n",
       "      <td>object</td>\n",
       "      <td>826108</td>\n",
       "      <td>0</td>\n",
       "    </tr>\n",
       "    <tr>\n",
       "      <th>12</th>\n",
       "      <td>bought_together</td>\n",
       "      <td>float64</td>\n",
       "      <td>0</td>\n",
       "      <td>826108</td>\n",
       "    </tr>\n",
       "    <tr>\n",
       "      <th>13</th>\n",
       "      <td>main_hi_res_image</td>\n",
       "      <td>object</td>\n",
       "      <td>777744</td>\n",
       "      <td>48364</td>\n",
       "    </tr>\n",
       "  </tbody>\n",
       "</table>\n",
       "</div>"
      ],
      "text/plain": [
       "          Column Name Data Type  Non-Null Count  Null Count\n",
       "0       main_category    object          826108           0\n",
       "1               title    object          826108           0\n",
       "2      average_rating   float64          826108           0\n",
       "3       rating_number     int64          826108           0\n",
       "4            features    object          826108           0\n",
       "5         description    object          826108           0\n",
       "6               price   float64           50249      775859\n",
       "7              videos    object          826108           0\n",
       "8               store    object          799270       26838\n",
       "9          categories    object          826108           0\n",
       "10            details    object          826108           0\n",
       "11        parent_asin    object          826108           0\n",
       "12    bought_together   float64               0      826108\n",
       "13  main_hi_res_image    object          777744       48364"
      ]
     },
     "execution_count": 10,
     "metadata": {},
     "output_type": "execute_result"
    }
   ],
   "source": [
    "# Create and display a dataframe that summarizes the products\n",
    "pd.DataFrame(\n",
    "    {\n",
    "        \"Column Name\": df.columns,\n",
    "        \"Data Type\": df.dtypes.values,\n",
    "        \"Non-Null Count\": df.notnull().sum().values,\n",
    "        \"Null Count\": df.isnull().sum().values,\n",
    "    }\n",
    ")"
   ]
  },
  {
   "cell_type": "markdown",
   "metadata": {},
   "source": [
    "- We see that `price` is missing for majority of products.\n",
    "- `bought_together` is fully null and can be dropped.\n"
   ]
  },
  {
   "cell_type": "code",
   "execution_count": 11,
   "metadata": {},
   "outputs": [],
   "source": [
    "df = df.drop(\"bought_together\", axis=1)"
   ]
  },
  {
   "cell_type": "code",
   "execution_count": 12,
   "metadata": {},
   "outputs": [],
   "source": [
    "# Let's also remove videos as it won't be needed in our prototype\n",
    "df = df.drop(\"videos\", axis=1)"
   ]
  },
  {
   "cell_type": "code",
   "execution_count": 13,
   "metadata": {},
   "outputs": [
    {
     "data": {
      "text/plain": [
       "main_category\n",
       "AMAZON FASHION    826108\n",
       "Name: count, dtype: int64"
      ]
     },
     "execution_count": 13,
     "metadata": {},
     "output_type": "execute_result"
    }
   ],
   "source": [
    "# Check main category distribution\n",
    "df[\"main_category\"].value_counts(dropna=False)"
   ]
  },
  {
   "cell_type": "code",
   "execution_count": 14,
   "metadata": {},
   "outputs": [],
   "source": [
    "# There is no variation so we can safely drop this columns\n",
    "df = df.drop(\"main_category\", axis=1)"
   ]
  },
  {
   "cell_type": "code",
   "execution_count": 15,
   "metadata": {},
   "outputs": [
    {
     "data": {
      "text/html": [
       "<div>\n",
       "<style scoped>\n",
       "    .dataframe tbody tr th:only-of-type {\n",
       "        vertical-align: middle;\n",
       "    }\n",
       "\n",
       "    .dataframe tbody tr th {\n",
       "        vertical-align: top;\n",
       "    }\n",
       "\n",
       "    .dataframe thead th {\n",
       "        text-align: right;\n",
       "    }\n",
       "</style>\n",
       "<table border=\"1\" class=\"dataframe\">\n",
       "  <thead>\n",
       "    <tr style=\"text-align: right;\">\n",
       "      <th></th>\n",
       "      <th>count</th>\n",
       "    </tr>\n",
       "  </thead>\n",
       "  <tbody>\n",
       "  </tbody>\n",
       "</table>\n",
       "</div>"
      ],
      "text/plain": [
       "Empty DataFrame\n",
       "Columns: [count]\n",
       "Index: []"
      ]
     },
     "execution_count": 15,
     "metadata": {},
     "output_type": "execute_result"
    }
   ],
   "source": [
    "# Check the distribution of the categories\n",
    "flatten_and_count(df, \"categories\")"
   ]
  },
  {
   "cell_type": "code",
   "execution_count": 16,
   "metadata": {},
   "outputs": [],
   "source": [
    "# Categories are fully empty so it can be dropped\n",
    "df = df.drop(\"categories\", axis=1)"
   ]
  },
  {
   "cell_type": "code",
   "execution_count": 17,
   "metadata": {},
   "outputs": [
    {
     "data": {
      "text/html": [
       "<div>\n",
       "<style scoped>\n",
       "    .dataframe tbody tr th:only-of-type {\n",
       "        vertical-align: middle;\n",
       "    }\n",
       "\n",
       "    .dataframe tbody tr th {\n",
       "        vertical-align: top;\n",
       "    }\n",
       "\n",
       "    .dataframe thead th {\n",
       "        text-align: right;\n",
       "    }\n",
       "</style>\n",
       "<table border=\"1\" class=\"dataframe\">\n",
       "  <thead>\n",
       "    <tr style=\"text-align: right;\">\n",
       "      <th></th>\n",
       "      <th>count</th>\n",
       "    </tr>\n",
       "  </thead>\n",
       "  <tbody>\n",
       "    <tr>\n",
       "      <th>Pull On closure</th>\n",
       "      <td>103164</td>\n",
       "    </tr>\n",
       "    <tr>\n",
       "      <th>Hand Wash Only</th>\n",
       "      <td>82942</td>\n",
       "    </tr>\n",
       "    <tr>\n",
       "      <th>Machine Wash</th>\n",
       "      <td>70510</td>\n",
       "    </tr>\n",
       "    <tr>\n",
       "      <th>Button closure</th>\n",
       "      <td>32517</td>\n",
       "    </tr>\n",
       "    <tr>\n",
       "      <th>Zipper closure</th>\n",
       "      <td>31238</td>\n",
       "    </tr>\n",
       "    <tr>\n",
       "      <th>...</th>\n",
       "      <td>...</td>\n",
       "    </tr>\n",
       "    <tr>\n",
       "      <th>Large Silver Storage Bag: you will get 1 large zipper blue storage bag that measures 24 x 30 inches, which can hold many pieces of silverware, you do not need to spend time and energy in buying multiple smaller storage bags</th>\n",
       "      <td>1</td>\n",
       "    </tr>\n",
       "    <tr>\n",
       "      <th>Keep Silverware and Jewelry Shiny: the anti tarnish silver storage bags can keep the jewelry, silverware, and others in bright and shiny condition, providing you with a long time of application and comfortable use experience</th>\n",
       "      <td>1</td>\n",
       "    </tr>\n",
       "    <tr>\n",
       "      <th>Zipper and Color Design: zipper silver keeper bag allows you to easily put and take out silver containers, which is very convenient and safe to use; Blue is a very classic color, and the use of silverware gives a sense of nobility</th>\n",
       "      <td>1</td>\n",
       "    </tr>\n",
       "    <tr>\n",
       "      <th>Soft and Comfortable Material: the anti tarnish bag is mainly made of double flannelette fabric, which is soft, comfortable and will not rub the silverware surface; Strong shading performance is hard to expose to sunlight; You can use it for a long time</th>\n",
       "      <td>1</td>\n",
       "    </tr>\n",
       "    <tr>\n",
       "      <th>collar style: Tshirt,Tee</th>\n",
       "      <td>1</td>\n",
       "    </tr>\n",
       "  </tbody>\n",
       "</table>\n",
       "<p>211142 rows × 1 columns</p>\n",
       "</div>"
      ],
      "text/plain": [
       "                                                     count\n",
       "Pull On closure                                     103164\n",
       "Hand Wash Only                                       82942\n",
       "Machine Wash                                         70510\n",
       "Button closure                                       32517\n",
       "Zipper closure                                       31238\n",
       "...                                                    ...\n",
       "Large Silver Storage Bag: you will get 1 large ...       1\n",
       "Keep Silverware and Jewelry Shiny: the anti tar...       1\n",
       "Zipper and Color Design: zipper silver keeper b...       1\n",
       "Soft and Comfortable Material: the anti tarnish...       1\n",
       "collar style: Tshirt,Tee                                 1\n",
       "\n",
       "[211142 rows x 1 columns]"
      ]
     },
     "execution_count": 17,
     "metadata": {},
     "output_type": "execute_result"
    }
   ],
   "source": [
    "# Do the same for features column\n",
    "flatten_and_count(df, \"features\")"
   ]
  },
  {
   "cell_type": "markdown",
   "metadata": {},
   "source": [
    "There are 211,142 unique categories with most common ones as Pull On closure, Hand Wash Only, Machine Wash, Button closure, Zipper closure."
   ]
  },
  {
   "cell_type": "code",
   "execution_count": 18,
   "metadata": {},
   "outputs": [
    {
     "data": {
      "text/html": [
       "<div>\n",
       "<style scoped>\n",
       "    .dataframe tbody tr th:only-of-type {\n",
       "        vertical-align: middle;\n",
       "    }\n",
       "\n",
       "    .dataframe tbody tr th {\n",
       "        vertical-align: top;\n",
       "    }\n",
       "\n",
       "    .dataframe thead th {\n",
       "        text-align: right;\n",
       "    }\n",
       "</style>\n",
       "<table border=\"1\" class=\"dataframe\">\n",
       "  <thead>\n",
       "    <tr style=\"text-align: right;\">\n",
       "      <th></th>\n",
       "      <th>count</th>\n",
       "    </tr>\n",
       "  </thead>\n",
       "  <tbody>\n",
       "    <tr>\n",
       "      <th>Date First Available</th>\n",
       "      <td>797051</td>\n",
       "    </tr>\n",
       "    <tr>\n",
       "      <th>Package Dimensions</th>\n",
       "      <td>528478</td>\n",
       "    </tr>\n",
       "    <tr>\n",
       "      <th>Item model number</th>\n",
       "      <td>371915</td>\n",
       "    </tr>\n",
       "    <tr>\n",
       "      <th>Is Discontinued By Manufacturer</th>\n",
       "      <td>295500</td>\n",
       "    </tr>\n",
       "    <tr>\n",
       "      <th>Product Dimensions</th>\n",
       "      <td>160469</td>\n",
       "    </tr>\n",
       "    <tr>\n",
       "      <th>...</th>\n",
       "      <td>...</td>\n",
       "    </tr>\n",
       "    <tr>\n",
       "      <th>Model Info</th>\n",
       "      <td>1</td>\n",
       "    </tr>\n",
       "    <tr>\n",
       "      <th>Safety Rating</th>\n",
       "      <td>1</td>\n",
       "    </tr>\n",
       "    <tr>\n",
       "      <th>Microphone Form Factor</th>\n",
       "      <td>1</td>\n",
       "    </tr>\n",
       "    <tr>\n",
       "      <th>Vehicle Service Type Passenger Car</th>\n",
       "      <td>1</td>\n",
       "    </tr>\n",
       "    <tr>\n",
       "      <th>Occasion Travel</th>\n",
       "      <td>1</td>\n",
       "    </tr>\n",
       "  </tbody>\n",
       "</table>\n",
       "<p>544 rows × 1 columns</p>\n",
       "</div>"
      ],
      "text/plain": [
       "                                     count\n",
       "Date First Available                797051\n",
       "Package Dimensions                  528478\n",
       "Item model number                   371915\n",
       "Is Discontinued By Manufacturer     295500\n",
       "Product Dimensions                  160469\n",
       "...                                    ...\n",
       "Model Info                               1\n",
       "Safety Rating                            1\n",
       "Microphone Form Factor                   1\n",
       "Vehicle Service Type Passenger Car       1\n",
       "Occasion Travel                          1\n",
       "\n",
       "[544 rows x 1 columns]"
      ]
     },
     "execution_count": 18,
     "metadata": {},
     "output_type": "execute_result"
    }
   ],
   "source": [
    "# Lets look into details columns\n",
    "df[\"details_keys\"] = df[\"details\"].apply(lambda details: list(details.keys()) if isinstance(details, dict) else {})\n",
    "flatten_and_count(df, \"details_keys\")"
   ]
  },
  {
   "cell_type": "markdown",
   "metadata": {},
   "source": [
    "We see there 544 types of details such as model number, whether its discontinued or not. This is valuable information so let's keep it."
   ]
  },
  {
   "cell_type": "code",
   "execution_count": 19,
   "metadata": {},
   "outputs": [],
   "source": [
    "df = df.drop(\"details_keys\", axis=1)"
   ]
  },
  {
   "cell_type": "code",
   "execution_count": 20,
   "metadata": {},
   "outputs": [
    {
     "data": {
      "image/png": "[encoded data removed]",
      "text/plain": [
       "<Figure size 640x480 with 1 Axes>"
      ]
     },
     "metadata": {},
     "output_type": "display_data"
    },
    {
     "data": {
      "image/png": "[encoded data removed]",
      "text/plain": [
       "<Figure size 640x480 with 1 Axes>"
      ]
     },
     "metadata": {},
     "output_type": "display_data"
    }
   ],
   "source": [
    "# Lets check how ratings are distributed\n",
    "\n",
    "# Histogram for average rating\n",
    "df[\"average_rating\"].dropna().hist(bins=100)\n",
    "plt.title(\"Distribution of Average Rating\")\n",
    "plt.xlabel(\"Rating\")\n",
    "plt.ylabel(\"Count\")\n",
    "plt.show()\n",
    "\n",
    "# Histogram for number of ratings\n",
    "df[\"rating_number\"].dropna().hist(bins=100)\n",
    "plt.title(\"Distribution of Rating Count\")\n",
    "plt.xlabel(\"Number of Ratings\")\n",
    "plt.ylabel(\"Count\")\n",
    "plt.yscale(\"log\")  # optional: log scale for better visibility\n",
    "plt.show()"
   ]
  },
  {
   "cell_type": "code",
   "execution_count": 21,
   "metadata": {},
   "outputs": [
    {
     "data": {
      "text/plain": [
       "description_length\n",
       "0      766819\n",
       "1       48146\n",
       "2        1705\n",
       "3         757\n",
       "4        1000\n",
       "5         760\n",
       "6         922\n",
       "7         617\n",
       "8         669\n",
       "9         619\n",
       "10        533\n",
       "11        471\n",
       "12        514\n",
       "13        342\n",
       "14        268\n",
       "15        297\n",
       "16        227\n",
       "17        178\n",
       "18        144\n",
       "19        109\n",
       "20        154\n",
       "21        102\n",
       "22        116\n",
       "23         61\n",
       "24         79\n",
       "25         88\n",
       "26         56\n",
       "27         29\n",
       "28         53\n",
       "29         31\n",
       "30         32\n",
       "31         25\n",
       "32         29\n",
       "33         13\n",
       "34         23\n",
       "35          9\n",
       "36         12\n",
       "37         11\n",
       "38         20\n",
       "39          5\n",
       "40         12\n",
       "41          3\n",
       "42          6\n",
       "43          1\n",
       "44          4\n",
       "45          5\n",
       "46          8\n",
       "47          3\n",
       "48          2\n",
       "50          3\n",
       "52          2\n",
       "54          5\n",
       "55          2\n",
       "57          1\n",
       "58          1\n",
       "65          1\n",
       "71          1\n",
       "75          1\n",
       "83          1\n",
       "101         1\n",
       "Name: count, dtype: int64"
      ]
     },
     "execution_count": 21,
     "metadata": {},
     "output_type": "execute_result"
    }
   ],
   "source": [
    "# Now let's check description which is suprisingly a list field (Expected a string)\n",
    "df[\"description_length\"] = df[\"description\"].apply(\n",
    "    lambda x: len(x) if isinstance(x, list) else 0\n",
    ")\n",
    "\n",
    "df[\"description_length\"].value_counts().sort_index()"
   ]
  },
  {
   "cell_type": "code",
   "execution_count": 22,
   "metadata": {},
   "outputs": [
    {
     "data": {
      "text/plain": [
       "array([list(['Brand:MSGUIDE', 'Size:', '28.3\"(L) x 25.6\"(W)', 'Gender:', 'Unisex', 'Aadjustable:', 'Adjustable Extra Long Ties, suitable for most men and women', 'Waterproof:', 'This apron is made of Oxford cloth, resistant to dirt and abrasion, and can well protect your clothes from oil.', 'Multi-purpose:', 'ideal for kitchen,Cooking,Baking,Barbeque,camping, parties, picnics,garden and so onThe stylish adjustable apron is suitable for most male and female chef artist waiter butchers. This unique apron is perfect for any festive occasions such as cooking, baking, gardening, DIY, party, barbecue, cleaning, painting, etc. If you are a housewife, dining at home, a coffee shop clerk, a painter or some parts that require safety protection, the bib apron to keep your clothes clean.', 'Note:', \"Pictures may slightly vary from actual item due to lighting and monitor. So it's normal to have a little bit of chromatic aberration.\"]),\n",
       "       list(['Simple fashion clear bracelets, many kinds of stones with different colors. Stones are synthetic, but look true to the natural gemstones, also fashionable and beautiful. All bracelets are handmade by a high elastic string, so size fits for most of people.Other more, all the stones are Eco-friendly and Recycling when you tired of wearing it, you could DIY for other novelty bracelets or necklace, also could make a smaller size bracelet for children.', 'About JewelrieShop Store', 'JewelrieShop', 'has been on Amazon for several years, focus on all kinds of fashion earrings, bracelets, necklaces, Piercing. Most of our products are with stainless steel material, we will test for some days before we release the new products, we care about the quality when you received it and the comfort when you are wearing, we want to do our best to bring you a nice buying experience in our store.', 'About JewelrieShop Customer Service', \"1. All emails will be replied within 24 hours, any problems when you are buying or shipping, you can email us at anytime, we would serve you until you received the products.2. 90-Day Exchange or Money refund Guarantee, so you don't need to worry about the product lost and waste of money.3. JewelrieShop is devoted to providing high quality products, so any problems about quality when you received the products, please contact us with no hesitations at any time when you are free, we would solve it.4. All products are Shipped by Amazon with faster shipping speed -- Second Day Shipping Service, Next Day Shipping Service, Standard Shipping Service.\"]),\n",
       "       list(['14k Gold Wave Cubic Zirconia Ear Climber Crawler Earrings', 'Beautifully crafted and well designed.', 'Beautifully crafted and well designed.', 'Available in Yellow Gold or White Gold.', 'Available in Yellow Gold or White Gold.', 'Earrings hook upwards tracing the ear.', 'Earrings hook upwards tracing the ear.', 'All items come with a gift box.', 'All items come with a gift box.', 'Properly stamped and marked.', 'Properly stamped and marked.', 'Pictures are enlarged to show details.', 'Pictures are enlarged to show details.']),\n",
       "       list(['Say goodbye to sweat or hair bothering & Get your sport life more pleasant', 'Little Thing turns in Great Use', '🏃Running 🚴Cycling ⛹Basketball ⚽Football 🙋Working Out', 'A great gift idea for men, women, dads or moms.', 'Why choose SportPal sweat headband?', '▶Super Stretchy', '-- perfect fit for all size, neither too tight nor too loose, comes with 2 sports headband, share with your family', '▶Breathable Comfort', '-- light weight and moisture wicking material helps sweat controlling but feels like wearing nothing', '▶Quality Durable', '-- SportPal sweat headband are made of quality natural organic cotton, designed to be thicker, stronger and skin friendly.', '▶Versatile Band', '-- wear your band around the home or outdoor activities, even use to keep your hair from getting wet in the bath.', 'Your 100% satisfaction is guaranteed.', 'We know how frustrated it can be to have a sweat headband slipped in the middle of a workout,  or lost elasticity after a short period of time.', '✔ Double high-level cotton not only brings good elasticity and comfort,  but also the good durability. Use it with confidence!  ✔ If For Whatever Reason You Do Not Absolutely Love Your SportPal Sweat Headbands, Just Return It And We Will Refund Every Penny Or Replace It, No Questions Asked.', 'We Promise:', '❖No Spamming! You never have to bother with junk mail for asking a good evaluation of this sports headband, we are dedicated to provide you a clean and comfortable shopping environment.', 'Kindly Note:', 'Should be washed with water under 30 Celsius degrees and hang dry in shade place to avoid get wrinkled.', 'Specification:', '◇ Normal Length: 7.48 inch/ 19 cm (max to 15.75 inch/ 40 cm)  ◇ Width: 2.17 inch/ 5.5 cm', 'Package Contents:', '2 x SportPal sweat headbands']),\n",
       "       list([\"【Bandana Perfect for Outdoor】-- Fabric is 4-way stretch, It's very soft and close to your skin. No worry about sweating. Can draw sweat away from your face and dry quickly, UV-Proof, Dust-Proof, Sand-Proof, Windproof. Wear it as a to protect your face get burned from sun rays directly Also they help keep your nose clean from breathing dust.\", \"【Cooling & Breathable】-- This thin scarf is made of durable super breathable functional fabric, soft and breathable, makes you feel comfortable and better to breathe fresh air in hot summer.this neck warmer won't lint, shrink, pilling or color bleed even though when wash it after many times, can be used for a long time\", '【Versatile Usages】-- made of elastic soft and breathable fabric material, it can provide a variety of ways to wear.Besides as neck gaiter, make it as neck warmer, scarf, scarf gaiter, balaclava, headbands, ear warmer, beanie or other ways is perfect also. It can be worn in various ways so that you could save time and money.', '【Widely Occasion】-- They can as a scarf wearing it over your nose or wear it as a neck gaiter, the thin scarf gives you cool and comfort, you can use it for fishing, hiking, motorcycling, riding, cycling, mountain climbing, rock climbing.It is the best choice for outdoor travel.', \"【Size & Lightweight】-- Edge seams adopted lock edge will not unravel easily. not too tight or too loose, make sure the hot air can't gets in easily and can breath smoothly. our neck gaiter fits most neck and head shapes and sizes and it is very lightweight and easy to carry.The cooling neck gaiter perfect for women men,and best for gift for your friends and families.\"])],\n",
       "      dtype=object)"
      ]
     },
     "execution_count": 22,
     "metadata": {},
     "output_type": "execute_result"
    }
   ],
   "source": [
    "# Let's check cases where there are multiple descriptions\n",
    "df[df[\"description_length\"] > 3].head()[\"description\"].values"
   ]
  },
  {
   "cell_type": "markdown",
   "metadata": {},
   "source": [
    "We can see that these are just parts of an overall description. Let's concatenate them with space in between list elements"
   ]
  },
  {
   "cell_type": "code",
   "execution_count": 23,
   "metadata": {},
   "outputs": [],
   "source": [
    "df[\"description\"] = df[\"description\"].apply(\n",
    "    lambda x: \" \".join(x) if isinstance(x, list) else x\n",
    ")\n",
    "df = df.drop(\"description_length\", axis=1)"
   ]
  },
  {
   "cell_type": "code",
   "execution_count": 24,
   "metadata": {},
   "outputs": [],
   "source": [
    "# Lets also remove parent_asin as people usually don't search using ASIN numbers\n",
    "# This is done in order to reduce the size of the dataset to below 100MB which is the limit by GitHub\n",
    "df = df.drop(\"parent_asin\", axis=1)"
   ]
  },
  {
   "cell_type": "code",
   "execution_count": 25,
   "metadata": {},
   "outputs": [
    {
     "data": {
      "text/plain": [
       "0     https://m.media-amazon.com/images/I/81XlFXImFrS._AC_UL1500_.jpg\n",
       "1     https://m.media-amazon.com/images/I/91Z4G2jlFeL._AC_UL1500_.jpg\n",
       "2     https://m.media-amazon.com/images/I/612-CtsBAvL._AC_UL1500_.jpg\n",
       "3     https://m.media-amazon.com/images/I/61qmATFO2FL._AC_UL1500_.jpg\n",
       "4     https://m.media-amazon.com/images/I/91ub366PdKL._AC_UL1500_.jpg\n",
       "6     https://m.media-amazon.com/images/I/61PXLV7A9DL._AC_UL1500_.jpg\n",
       "7     https://m.media-amazon.com/images/I/51wifGtXJmL._AC_UL1001_.jpg\n",
       "8     https://m.media-amazon.com/images/I/61Rz6OajP5L._AC_UL1004_.jpg\n",
       "9     https://m.media-amazon.com/images/I/71ZtYP0GfdL._AC_UL1500_.jpg\n",
       "10    https://m.media-amazon.com/images/I/71TvGyW0afL._AC_UL1500_.jpg\n",
       "11    https://m.media-amazon.com/images/I/71qnfc60uEL._AC_UL1300_.jpg\n",
       "12    https://m.media-amazon.com/images/I/518JI5jtL8L._AC_UL1000_.jpg\n",
       "13    https://m.media-amazon.com/images/I/61FYGwTQmzL._AC_UL1200_.jpg\n",
       "14    https://m.media-amazon.com/images/I/71AqYf+W5FL._AC_UL1500_.jpg\n",
       "15    https://m.media-amazon.com/images/I/51yfQG0XPYL._AC_UL1000_.jpg\n",
       "17    https://m.media-amazon.com/images/I/617vbDo5YzL._AC_UL1200_.jpg\n",
       "18    https://m.media-amazon.com/images/I/71UTqa6BTKL._AC_UL1500_.jpg\n",
       "19    https://m.media-amazon.com/images/I/71BYVzCvjwL._AC_UL1500_.jpg\n",
       "20    https://m.media-amazon.com/images/I/615u-+M5hYL._AC_UL1500_.jpg\n",
       "21    https://m.media-amazon.com/images/I/71vTTDGMmNL._AC_UL1500_.jpg\n",
       "Name: main_hi_res_image, dtype: object"
      ]
     },
     "execution_count": 25,
     "metadata": {},
     "output_type": "execute_result"
    }
   ],
   "source": [
    "# Set pandas options to display full text in each column\n",
    "pd.set_option(\"display.max_colwidth\", None)\n",
    "\n",
    "# Display the first 20 rows of the \"main_hi_res_image\" column\n",
    "df[\"main_hi_res_image\"].dropna().head(20)"
   ]
  },
  {
   "cell_type": "code",
   "execution_count": 26,
   "metadata": {},
   "outputs": [
    {
     "data": {
      "text/plain": [
       "(777744, 0)"
      ]
     },
     "execution_count": 26,
     "metadata": {},
     "output_type": "execute_result"
    }
   ],
   "source": [
    "# We observe that URL always starts with \"https://m.media-amazon.com/images/I/\"\n",
    "# (Does not necessarily end with \".jpg\" as there are .png examples)\n",
    "# Lets remove this prefix and add it later when we need to display the image\n",
    "# This will help us reduce the size of the dataset\n",
    "\n",
    "# Before that, let's validate that all URLs indeed start with this prefix\n",
    "# Define the expected format\n",
    "expected_format = r\"^https://m\\.media-amazon\\.com/images/I/.*$\"\n",
    "\n",
    "# Count rows matching the format\n",
    "matching_rows = df[\"main_hi_res_image\"].str.match(expected_format, na=False).sum()\n",
    "\n",
    "# Count rows not matching the format\n",
    "non_matching_rows = df[\"main_hi_res_image\"].notna().sum() - matching_rows\n",
    "\n",
    "matching_rows, non_matching_rows"
   ]
  },
  {
   "cell_type": "markdown",
   "metadata": {},
   "source": [
    "Indeed, all non-null image links start with the \"https://m.media-amazon.com/images/I/\" and end with \".jpg\". Let's remove these strings from the column"
   ]
  },
  {
   "cell_type": "code",
   "execution_count": 27,
   "metadata": {},
   "outputs": [],
   "source": [
    "# Remove only the prefix from the URLs\n",
    "df[\"main_hi_res_image\"] = df[\"main_hi_res_image\"].str.replace(\n",
    "    r\"^https://m\\.media-amazon\\.com/images/I/\", \"\", regex=True\n",
    ")"
   ]
  },
  {
   "cell_type": "markdown",
   "metadata": {},
   "source": [
    "## Optimize df and save"
   ]
  },
  {
   "cell_type": "code",
   "execution_count": 28,
   "metadata": {},
   "outputs": [],
   "source": [
    "# Optimize data types\n",
    "df[\"average_rating\"] = df[\"average_rating\"].astype(\"float32\")\n",
    "df[\"rating_number\"] = df[\"rating_number\"].astype(\"int32\")\n",
    "df[\"price\"] = df[\"price\"].astype(\"float32\")\n",
    "df[\"store\"] = df[\"store\"].astype(\"category\")"
   ]
  },
  {
   "cell_type": "code",
   "execution_count": 29,
   "metadata": {},
   "outputs": [],
   "source": [
    "# At this stage, we can save the DataFrame to a CSV file in compressed format\n",
    "# However, file size would still be above 100 MB which is the permitted size by GitHub\n",
    "# Lets remove 5% of data randomly and save the remaining data in order to reduce the size\n",
    "\n",
    "# Save the DataFrame with compression\n",
    "df_sample = df.sample(frac=0.95, random_state=42)  # Drop 5% of rows randomly\n",
    "df_sample.to_csv(\"./products.csv\", index=False, compression=\"zip\")"
   ]
  },
  {
   "cell_type": "code",
   "execution_count": 30,
   "metadata": {},
   "outputs": [
    {
     "name": "stdout",
     "output_type": "stream",
     "text": [
      "Size of './products.csv': 96.65 MB\n"
     ]
    }
   ],
   "source": [
    "# Check whether the size of saved table is below 100MB\n",
    "file_size = os.path.getsize(\"./products.csv\")\n",
    "print(f\"Size of './products.csv': {file_size / (1024 * 1024):.2f} MB\")"
   ]
  },
  {
   "cell_type": "markdown",
   "metadata": {},
   "source": [
    "- With removing unnecessary rows, optimizing dtypes, and dropping 5% of data, we were able to save the data with a size below 100MB\n",
    "- The resulting data file can be used to build the Vector Database"
   ]
  },
  {
   "cell_type": "code",
   "execution_count": null,
   "metadata": {},
   "outputs": [],
   "source": []
  }
 ],
 "metadata": {
  "kernelspec": {
   "display_name": "base",
   "language": "python",
   "name": "python3"
  },
  "language_info": {
   "codemirror_mode": {
    "name": "ipython",
    "version": 3
   },
   "file_extension": ".py",
   "mimetype": "text/x-python",
   "name": "python",
   "nbconvert_exporter": "python",
   "pygments_lexer": "ipython3",
   "version": "3.11.5"
  }
 },
 "nbformat": 4,
 "nbformat_minor": 2
}
