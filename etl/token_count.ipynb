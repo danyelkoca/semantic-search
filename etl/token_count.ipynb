{
 "cells": [
  {
   "cell_type": "code",
   "execution_count": 2,
   "metadata": {},
   "outputs": [
    {
     "name": "stdout",
     "output_type": "stream",
     "text": [
      "Collecting tiktoken\n",
      "  Downloading tiktoken-0.9.0-cp310-cp310-macosx_11_0_arm64.whl.metadata (6.7 kB)\n",
      "Collecting regex>=2022.1.18 (from tiktoken)\n",
      "  Downloading regex-2024.11.6-cp310-cp310-macosx_11_0_arm64.whl.metadata (40 kB)\n",
      "\u001b[2K     \u001b[90m━━━━━━━━━━━━━━━━━━━━━━━━━━━━━━━━━━━━━━━━\u001b[0m \u001b[32m40.5/40.5 kB\u001b[0m \u001b[31m2.6 MB/s\u001b[0m eta \u001b[36m0:00:00\u001b[0m\n",
      "\u001b[?25hRequirement already satisfied: requests>=2.26.0 in /Library/Frameworks/Python.framework/Versions/3.10/lib/python3.10/site-packages (from tiktoken) (2.26.0)\n",
      "Requirement already satisfied: urllib3<1.27,>=1.21.1 in /Library/Frameworks/Python.framework/Versions/3.10/lib/python3.10/site-packages (from requests>=2.26.0->tiktoken) (1.26.7)\n",
      "Requirement already satisfied: certifi>=2017.4.17 in /Library/Frameworks/Python.framework/Versions/3.10/lib/python3.10/site-packages (from requests>=2.26.0->tiktoken) (2022.6.15)\n",
      "Requirement already satisfied: charset-normalizer~=2.0.0 in /Library/Frameworks/Python.framework/Versions/3.10/lib/python3.10/site-packages (from requests>=2.26.0->tiktoken) (2.0.7)\n",
      "Requirement already satisfied: idna<4,>=2.5 in /Library/Frameworks/Python.framework/Versions/3.10/lib/python3.10/site-packages (from requests>=2.26.0->tiktoken) (3.3)\n",
      "Downloading tiktoken-0.9.0-cp310-cp310-macosx_11_0_arm64.whl (1.0 MB)\n",
      "\u001b[2K   \u001b[90m━━━━━━━━━━━━━━━━━━━━━━━━━━━━━━━━━━━━━━━━\u001b[0m \u001b[32m1.0/1.0 MB\u001b[0m \u001b[31m8.9 MB/s\u001b[0m eta \u001b[36m0:00:00\u001b[0mta \u001b[36m0:00:01\u001b[0m\n",
      "\u001b[?25hDownloading regex-2024.11.6-cp310-cp310-macosx_11_0_arm64.whl (284 kB)\n",
      "\u001b[2K   \u001b[90m━━━━━━━━━━━━━━━━━━━━━━━━━━━━━━━━━━━━━━━━\u001b[0m \u001b[32m284.6/284.6 kB\u001b[0m \u001b[31m8.2 MB/s\u001b[0m eta \u001b[36m0:00:00\u001b[0mta \u001b[36m0:00:01\u001b[0m\n",
      "\u001b[?25hInstalling collected packages: regex, tiktoken\n",
      "  Attempting uninstall: regex\n",
      "    Found existing installation: regex 2021.11.10\n",
      "    Uninstalling regex-2021.11.10:\n",
      "      Successfully uninstalled regex-2021.11.10\n",
      "Successfully installed regex-2024.11.6 tiktoken-0.9.0\n",
      "\u001b[33mWARNING: There was an error checking the latest version of pip.\u001b[0m\u001b[33m\n",
      "\u001b[0mNote: you may need to restart the kernel to use updated packages.\n"
     ]
    }
   ],
   "source": [
    "pip install tiktoken"
   ]
  },
  {
   "cell_type": "code",
   "execution_count": 7,
   "metadata": {},
   "outputs": [
    {
     "name": "stdout",
     "output_type": "stream",
     "text": [
      "Total tokens: 118299744\n"
     ]
    }
   ],
   "source": [
    "import pandas as pd\n",
    "import tiktoken\n",
    "import math\n",
    "\n",
    "# Initialize tokenizer\n",
    "enc = tiktoken.get_encoding(\"cl100k_base\")\n",
    "\n",
    "\n",
    "def count_tokens_for_row(row):\n",
    "    \"\"\"\n",
    "    Concatenate the five fields, converting everything to str:\n",
    "      - title       : TEXT\n",
    "      - description : TEXT\n",
    "      - features    : TEXT_ARRAY\n",
    "      - store       : TEXT\n",
    "      - details     : TEXT (JSON string)\n",
    "    \"\"\"\n",
    "    # Safely extract and stringify each field\n",
    "    title = str(row.get(\"title\", \"\")) if pd.notna(row.get(\"title\", \"\")) else \"\"\n",
    "    description = (\n",
    "        str(row.get(\"description\", \"\")) if pd.notna(row.get(\"description\", \"\")) else \"\"\n",
    "    )\n",
    "    # Features is a list; convert each element to str and join\n",
    "    features_list = row.get(\"features\", [])\n",
    "    features = \" \".join(str(f) for f in features_list if pd.notna(f))\n",
    "    store = str(row.get(\"store\", \"\")) if pd.notna(row.get(\"store\", \"\")) else \"\"\n",
    "    details = str(row.get(\"details\", \"\")) if pd.notna(row.get(\"details\", \"\")) else \"\"\n",
    "\n",
    "    # Build the full text and split on spaces\n",
    "    parts = [title, description, features, store, details]\n",
    "    # Keep only non-empty strings\n",
    "    text = \" \".join(p for p in parts if p)\n",
    "\n",
    "    # Return the number of tokens\n",
    "    return len(enc.encode(text))\n",
    "\n",
    "\n",
    "# Example usage:\n",
    "df = pd.read_csv(\"./data/products.csv\", compression=\"zip\")\n",
    "df[\"token_count\"] = df.apply(count_tokens_for_row, axis=1)\n",
    "total_tokens = df[\"token_count\"].sum()\n",
    "print(f\"Total tokens: {total_tokens}\")"
   ]
  },
  {
   "cell_type": "code",
   "execution_count": 8,
   "metadata": {},
   "outputs": [
    {
     "name": "stdout",
     "output_type": "stream",
     "text": [
      "Estimated embedding cost: $2.37\n"
     ]
    }
   ],
   "source": [
    "price_per_1k = 0.00002  # text-embedding-3-small rate\n",
    "estimated_cost = (total_tokens / 1000) * price_per_1k\n",
    "print(f\"Estimated embedding cost: ${estimated_cost:.2f}\")"
   ]
  }
 ],
 "metadata": {
  "kernelspec": {
   "display_name": "Python 3",
   "language": "python",
   "name": "python3"
  },
  "language_info": {
   "codemirror_mode": {
    "name": "ipython",
    "version": 3
   },
   "file_extension": ".py",
   "mimetype": "text/x-python",
   "name": "python",
   "nbconvert_exporter": "python",
   "pygments_lexer": "ipython3",
   "version": "3.10.0"
  }
 },
 "nbformat": 4,
 "nbformat_minor": 2
}
